{
 "cells": [
  {
   "cell_type": "markdown",
   "metadata": {},
   "source": [
    "# Text Processing\n",
    "\n",
    "## Capturing Text Data\n",
    "\n",
    "### Plain Text"
   ]
  },
  {
   "cell_type": "code",
   "execution_count": 1,
   "metadata": {},
   "outputs": [
    {
     "name": "stdout",
     "output_type": "stream",
     "text": [
      "Hieroglyphic writing dates from c. 3000 BC, and is composed of hundreds of symbols. A hieroglyph can represent a word, a sound, or a silent determinative; and the same symbol can serve different purposes in different contexts. Hieroglyphs were a formal script, used on stone monuments and in tombs, that could be as detailed as individual works of art.\n",
      "\n"
     ]
    }
   ],
   "source": [
    "import os\n",
    "\n",
    "# Read in a plain text file\n",
    "with open(os.path.join(\"data\", \"hieroglyph.txt\"), \"r\") as f:\n",
    "    text = f.read()\n",
    "    print(text)"
   ]
  },
  {
   "cell_type": "markdown",
   "metadata": {},
   "source": [
    "### Tabular Data"
   ]
  },
  {
   "cell_type": "code",
   "execution_count": 2,
   "metadata": {
    "scrolled": true
   },
   "outputs": [
    {
     "data": {
      "text/html": [
       "<div>\n",
       "<style scoped>\n",
       "    .dataframe tbody tr th:only-of-type {\n",
       "        vertical-align: middle;\n",
       "    }\n",
       "\n",
       "    .dataframe tbody tr th {\n",
       "        vertical-align: top;\n",
       "    }\n",
       "\n",
       "    .dataframe thead th {\n",
       "        text-align: right;\n",
       "    }\n",
       "</style>\n",
       "<table border=\"1\" class=\"dataframe\">\n",
       "  <thead>\n",
       "    <tr style=\"text-align: right;\">\n",
       "      <th></th>\n",
       "      <th>publisher</th>\n",
       "      <th>title</th>\n",
       "    </tr>\n",
       "  </thead>\n",
       "  <tbody>\n",
       "    <tr>\n",
       "      <th>0</th>\n",
       "      <td>Livemint</td>\n",
       "      <td>fed's charles plosser sees high bar for change...</td>\n",
       "    </tr>\n",
       "    <tr>\n",
       "      <th>1</th>\n",
       "      <td>IFA Magazine</td>\n",
       "      <td>us open: stocks fall after fed official hints ...</td>\n",
       "    </tr>\n",
       "    <tr>\n",
       "      <th>2</th>\n",
       "      <td>IFA Magazine</td>\n",
       "      <td>fed risks falling 'behind the curve', charles ...</td>\n",
       "    </tr>\n",
       "    <tr>\n",
       "      <th>3</th>\n",
       "      <td>Moneynews</td>\n",
       "      <td>fed's plosser: nasty weather has curbed job gr...</td>\n",
       "    </tr>\n",
       "    <tr>\n",
       "      <th>4</th>\n",
       "      <td>NASDAQ</td>\n",
       "      <td>plosser: fed may have to accelerate tapering pace</td>\n",
       "    </tr>\n",
       "  </tbody>\n",
       "</table>\n",
       "</div>"
      ],
      "text/plain": [
       "      publisher                                              title\n",
       "0      Livemint  fed's charles plosser sees high bar for change...\n",
       "1  IFA Magazine  us open: stocks fall after fed official hints ...\n",
       "2  IFA Magazine  fed risks falling 'behind the curve', charles ...\n",
       "3     Moneynews  fed's plosser: nasty weather has curbed job gr...\n",
       "4        NASDAQ  plosser: fed may have to accelerate tapering pace"
      ]
     },
     "execution_count": 2,
     "metadata": {},
     "output_type": "execute_result"
    }
   ],
   "source": [
    "import pandas as pd\n",
    "\n",
    "# Extract text column from a dataframe\n",
    "df = pd.read_csv(os.path.join(\"data\", \"news.csv\"))\n",
    "df.head()[['publisher', 'title']]\n",
    "\n",
    "# Convert text column to lowercase\n",
    "df['title'] = df['title'].str.lower()\n",
    "df.head()[['publisher', 'title']]"
   ]
  },
  {
   "cell_type": "markdown",
   "metadata": {},
   "source": [
    "### Online Resource"
   ]
  },
  {
   "cell_type": "code",
   "execution_count": 3,
   "metadata": {
    "scrolled": true
   },
   "outputs": [
    {
     "name": "stdout",
     "output_type": "stream",
     "text": [
      "{\n",
      "    \"success\": {\n",
      "        \"total\": 1\n",
      "    },\n",
      "    \"contents\": {\n",
      "        \"quotes\": [\n",
      "            {\n",
      "                \"quote\": \"If you\\u2019re changing the world, you\\u2019re working on important things. You\\u2019re excited to get up in the morning.\",\n",
      "                \"length\": \"127\",\n",
      "                \"author\": \"Larry Page\",\n",
      "                \"tags\": [\n",
      "                    \"inspire\",\n",
      "                    \"life\",\n",
      "                    \"tod\",\n",
      "                    \"tod\"\n",
      "                ],\n",
      "                \"category\": \"inspire\",\n",
      "                \"date\": \"2020-01-12\",\n",
      "                \"permalink\": \"https://theysaidso.com/quote/larry-page-if-youre-changing-the-world-youre-working-on-important-things-youre-e\",\n",
      "                \"title\": \"Inspiring Quote of the day\",\n",
      "                \"background\": \"https://theysaidso.com/img/bgs/man_on_the_mountain.jpg\",\n",
      "                \"id\": \"0dzDlCr3MHcglyOEBJ875weF\"\n",
      "            }\n",
      "        ],\n",
      "        \"copyright\": \"2017-19 theysaidso.com\"\n",
      "    }\n",
      "}\n",
      "If you’re changing the world, you’re working on important things. You’re excited to get up in the morning. \n",
      "-- Larry Page\n"
     ]
    }
   ],
   "source": [
    "import requests\n",
    "import json\n",
    "\n",
    "# Fetch data from a REST API\n",
    "r = requests.get(\n",
    "    \"https://quotes.rest/qod.json\")\n",
    "res = r.json()\n",
    "print(json.dumps(res, indent=4))\n",
    "\n",
    "# Extract relevant object and field\n",
    "q = res[\"contents\"][\"quotes\"][0]\n",
    "print(q[\"quote\"], \"\\n--\", q[\"author\"])"
   ]
  },
  {
   "cell_type": "markdown",
   "metadata": {},
   "source": [
    "## Cleaning"
   ]
  },
  {
   "cell_type": "code",
   "execution_count": 4,
   "metadata": {
    "scrolled": true
   },
   "outputs": [
    {
     "name": "stdout",
     "output_type": "stream",
     "text": [
      "<html op=\"news\"><head><meta name=\"referrer\" content=\"origin\"><meta name=\"viewport\" content=\"width=device-width, initial-scale=1.0\"><link rel=\"stylesheet\" type=\"text/css\" href=\"news.css?6GIRz7CscTt3zxPU8zV7\">\n",
      "        <link rel=\"shortcut icon\" href=\"favicon.ico\">\n",
      "          <link rel=\"alternate\" type=\"application/rss+xml\" title=\"RSS\" href=\"rss\">\n",
      "        <title>Hacker News</title></head><body><center><table id=\"hnmain\" border=\"0\" cellpadding=\"0\" cellspacing=\"0\" width=\"85%\" bgcolor=\"#f6f6ef\">\n",
      "        <tr><td bgcolor=\"#ff6600\"><table border=\"0\" cellpadding=\"0\" cellspacing=\"0\" width=\"100%\" style=\"padding:2px\"><tr><td style=\"width:18px;padding-right:4px\"><a href=\"https://news.ycombinator.com\"><img src=\"y18.gif\" width=\"18\" height=\"18\" style=\"border:1px white solid;\"></a></td>\n",
      "                  <td style=\"line-height:12pt; height:10px;\"><span class=\"pagetop\"><b class=\"hnname\"><a href=\"news\">Hacker News</a></b>\n",
      "              <a href=\"newest\">new</a> | <a href=\"front\">past</a> | <a href=\"newcomments\">comments</a> | <a href=\"ask\">ask</a> | <a href=\"show\">show</a> | <a href=\"jobs\">jobs</a> | <a href=\"submit\">submit</a>            </span></td><td style=\"text-align:right;padding-right:4px;\"><span class=\"pagetop\">\n",
      "                              <a href=\"login?goto=news\">login</a>\n",
      "                          </span></td>\n",
      "              </tr></table></td></tr>\n",
      "<tr id=\"pagespace\" title=\"\" style=\"height:10px\"></tr><tr><td><table border=\"0\" cellpadding=\"0\" cellspacing=\"0\" class=\"itemlist\">\n",
      "              <tr class='athing' id='22025482'>\n",
      "      <td align=\"right\" valign=\"top\" class=\"title\"><span class=\"rank\">1.</span></td>      <td valign=\"top\" class=\"votelinks\"><center><a id='up_22025482' href='vote?id=22025482&amp;how=up&amp;goto=news'><div class='votearrow' title='upvote'></div></a></center></td><td class=\"title\"><a href=\"https://www.ecowatch.com/ocean-cleaning-device-plastic-2640832397.html\" class=\"storylink\">Ocean Cleaning Device Succeeds in Removing Plastic for the First Time</a><span class=\"sitebit comhead\"> (<a href=\"from?site=ecowatch.com\"><span class=\"sitestr\">ecowatch.com</span></a>)</span></td></tr><tr><td colspan=\"2\"></td><td class=\"subtext\">\n",
      "        <span class=\"score\" id=\"score_22025482\">91 points</span> by <a href=\"user?id=lelf\" class=\"hnuser\">lelf</a> <span class=\"age\"><a href=\"item?id=22025482\">4 hours ago</a></span> <span id=\"unv_22025482\"></span> | <a href=\"hide?id=22025482&amp;goto=news\">hide</a> | <a href=\"item?id=22025482\">39&nbsp;comments</a>              </td></tr>\n",
      "      <tr class=\"spacer\" style=\"height:5px\"></tr>\n",
      "                <tr class='athing' id='22025145'>\n",
      "      <td align=\"right\" valign=\"top\" class=\"title\"><span class=\"rank\">2.</span></td>      <td valign=\"top\" class=\"votelinks\"><center><a id='up_22025145' href='vote?id=22025145&amp;how=up&amp;goto=news'><div class='votearrow' title='upvote'></div></a></center></td><td class=\"title\"><a href=\"http://www.computerarcheology.com/Arcade/SpaceInvaders/\" class=\"storylink\">Space Invaders</a><span class=\"sitebit comhead\"> (<a href=\"from?site=computerarcheology.com\"><span class=\"sitestr\">computerarcheology.com</span></a>)</span></td></tr><tr><td colspan=\"2\"></td><td class=\"subtext\">\n",
      "        <span class=\"score\" id=\"score_22025145\">54 points</span> by <a href=\"user?id=Tomte\" class=\"hnuser\">Tomte</a> <span class=\"age\"><a href=\"item?id=22025145\">4 hours ago</a></span> <span id=\"unv_22025145\"></span> | <a href=\"hide?id=22025145&amp;goto=news\">hide</a> | <a href=\"item?id=22025145\">7&nbsp;comments</a>              </td></tr>\n",
      "      <tr class=\"spacer\" style=\"height:5px\"></tr>\n",
      "                <tr class='athing' id='22024201'>\n",
      "      <td align=\"right\" valign=\"top\" class=\"title\"><span class=\"rank\">3.</span></td>      <td valign=\"top\" class=\"votelinks\"><center><a id='up_22024201' href='vote?id=22024201&amp;how=up&amp;goto=news'><div class='votearrow' title='upvote'></div></a></center></td><td class=\"title\"><a href=\"https://github.com/retejs/rete\" class=\"storylink\">Rete: JavaScript framework for visual programming and creating node editor</a><span class=\"sitebit comhead\"> (<a href=\"from?site=github.com\"><span class=\"sitestr\">github.com</span></a>)</span></td></tr><tr><td colspan=\"2\"></td><td class=\"subtext\">\n",
      "        <span class=\"score\" id=\"score_22024201\">195 points</span> by <a href=\"user?id=thisisastopsign\" class=\"hnuser\">thisisastopsign</a> <span class=\"age\"><a href=\"item?id=22024201\">11 hours ago</a></span> <span id=\"unv_22024201\"></span> | <a href=\"hide?id=22024201&amp;goto=news\">hide</a> | <a href=\"item?id=22024201\">42&nbsp;comments</a>              </td></tr>\n",
      "      <tr class=\"spacer\" style=\"height:5px\"></tr>\n",
      "                <tr class='athing' id='22025642'>\n",
      "      <td align=\"right\" valign=\"top\" class=\"title\"><span class=\"rank\">4.</span></td>      <td valign=\"top\" class=\"votelinks\"><center><a id='up_22025642' href='vote?id=22025642&amp;how=up&amp;goto=news'><div class='votearrow' title='upvote'></div></a></center></td><td class=\"title\"><a href=\"https://photographylife.com/understanding-memory-cards\" class=\"storylink\">Understanding Memory Cards</a><span class=\"sitebit comhead\"> (<a href=\"from?site=photographylife.com\"><span class=\"sitestr\">photographylife.com</span></a>)</span></td></tr><tr><td colspan=\"2\"></td><td class=\"subtext\">\n",
      "        <span class=\"score\" id=\"score_22025642\">24 points</span> by <a href=\"user?id=emptybits\" class=\"hnuser\">emptybits</a> <span class=\"age\"><a href=\"item?id=22025642\">4 hours ago</a></span> <span id=\"unv_22025642\"></span> | <a href=\"hide?id=22025642&amp;goto=news\">hide</a> | <a href=\"item?id=22025642\">3&nbsp;comments</a>              </td></tr>\n",
      "      <tr class=\"spacer\" style=\"height:5px\"></tr>\n",
      "                <tr class='athing' id='22022466'>\n",
      "      <td align=\"right\" valign=\"top\" class=\"title\"><span class=\"rank\">5.</span></td>      <td valign=\"top\" class=\"votelinks\"><center><a id='up_22022466' href='vote?id=22022466&amp;how=up&amp;goto=news'><div class='votearrow' title='upvote'></div></a></center></td><td class=\"title\"><a href=\"https://overreacted.io/goodbye-clean-code/\" class=\"storylink\">Goodbye, Clean Code</a><span class=\"sitebit comhead\"> (<a href=\"from?site=overreacted.io\"><span class=\"sitestr\">overreacted.io</span></a>)</span></td></tr><tr><td colspan=\"2\"></td><td class=\"subtext\">\n",
      "        <span class=\"score\" id=\"score_22022466\">1226 points</span> by <a href=\"user?id=danabramov\" class=\"hnuser\">danabramov</a> <span class=\"age\"><a href=\"item?id=22022466\">17 hours ago</a></span> <span id=\"unv_22022466\"></span> | <a href=\"hide?id=22022466&amp;goto=news\">hide</a> | <a href=\"item?id=22022466\">428&nbsp;comments</a>              </td></tr>\n",
      "      <tr class=\"spacer\" style=\"height:5px\"></tr>\n",
      "                <tr class='athing' id='22025717'>\n",
      "      <td align=\"right\" valign=\"top\" class=\"title\"><span class=\"rank\">6.</span></td>      <td valign=\"top\" class=\"votelinks\"><center><a id='up_22025717' href='vote?id=22025717&amp;how=up&amp;goto=news'><div class='votearrow' title='upvote'></div></a></center></td><td class=\"title\"><a href=\"https://en.wikipedia.org/wiki/Trivers%E2%80%93Willard_hypothesis\" class=\"storylink\">Trivers–Willard Hypothesis</a><span class=\"sitebit comhead\"> (<a href=\"from?site=wikipedia.org\"><span class=\"sitestr\">wikipedia.org</span></a>)</span></td></tr><tr><td colspan=\"2\"></td><td class=\"subtext\">\n",
      "        <span class=\"score\" id=\"score_22025717\">19 points</span> by <a href=\"user?id=RedAlakazam\" class=\"hnuser\">RedAlakazam</a> <span class=\"age\"><a href=\"item?id=22025717\">3 hours ago</a></span> <span id=\"unv_22025717\"></span> | <a href=\"hide?id=22025717&amp;goto=news\">hide</a> | <a href=\"item?id=22025717\">5&nbsp;comments</a>              </td></tr>\n",
      "      <tr class=\"spacer\" style=\"height:5px\"></tr>\n",
      "                <tr class='athing' id='22023490'>\n",
      "      <td align=\"right\" valign=\"top\" class=\"title\"><span class=\"rank\">7.</span></td>      <td valign=\"top\" class=\"votelinks\"><center><a id='up_22023490' href='vote?id=22023490&amp;how=up&amp;goto=news'><div class='votearrow' title='upvote'></div></a></center></td><td class=\"title\"><a href=\"https://cims.nyu.edu/~andrewgw/caseforbdl/\" class=\"storylink\">The Case for Bayesian Deep Learning</a><span class=\"sitebit comhead\"> (<a href=\"from?site=nyu.edu\"><span class=\"sitestr\">nyu.edu</span></a>)</span></td></tr><tr><td colspan=\"2\"></td><td class=\"subtext\">\n",
      "        <span class=\"score\" id=\"score_22023490\">159 points</span> by <a href=\"user?id=hardmaru\" class=\"hnuser\">hardmaru</a> <span class=\"age\"><a href=\"item?id=22023490\">14 hours ago</a></span> <span id=\"unv_22023490\"></span> | <a href=\"hide?id=22023490&amp;goto=news\">hide</a> | <a href=\"item?id=22023490\">29&nbsp;comments</a>              </td></tr>\n",
      "      <tr class=\"spacer\" style=\"height:5px\"></tr>\n",
      "                <tr class='athing' id='22024881'>\n",
      "      <td align=\"right\" valign=\"top\" class=\"title\"><span class=\"rank\">8.</span></td>      <td valign=\"top\" class=\"votelinks\"><center><a id='up_22024881' href='vote?id=22024881&amp;how=up&amp;goto=news'><div class='votearrow' title='upvote'></div></a></center></td><td class=\"title\"><a href=\"https://www.leidinger.net/blog/2019/01/27/strategic-thinking-or-what-i-think-what-we-need-to-do-to-keep-freebsd-relevant/\" class=\"storylink\">What I think what we need to do to keep FreeBSD relevant (2019)</a><span class=\"sitebit comhead\"> (<a href=\"from?site=leidinger.net\"><span class=\"sitestr\">leidinger.net</span></a>)</span></td></tr><tr><td colspan=\"2\"></td><td class=\"subtext\">\n",
      "        <span class=\"score\" id=\"score_22024881\">56 points</span> by <a href=\"user?id=rodrigo975\" class=\"hnuser\">rodrigo975</a> <span class=\"age\"><a href=\"item?id=22024881\">8 hours ago</a></span> <span id=\"unv_22024881\"></span> | <a href=\"hide?id=22024881&amp;goto=news\">hide</a> | <a href=\"item?id=22024881\">41&nbsp;comments</a>              </td></tr>\n",
      "      <tr class=\"spacer\" style=\"height:5px\"></tr>\n",
      "                <tr class='athing' id='22026089'>\n",
      "      <td align=\"right\" valign=\"top\" class=\"title\"><span class=\"rank\">9.</span></td>      <td valign=\"top\" class=\"votelinks\"><center><a id='up_22026089' href='vote?id=22026089&amp;how=up&amp;goto=news'><div class='votearrow' title='upvote'></div></a></center></td><td class=\"title\"><a href=\"https://twitter.com/SahinKevin/status/1216343661459451906\" class=\"storylink\">How I make $400/month with my technical eBook</a><span class=\"sitebit comhead\"> (<a href=\"from?site=twitter.com\"><span class=\"sitestr\">twitter.com</span></a>)</span></td></tr><tr><td colspan=\"2\"></td><td class=\"subtext\">\n",
      "        <span class=\"score\" id=\"score_22026089\">39 points</span> by <a href=\"user?id=ksahin\" class=\"hnuser\">ksahin</a> <span class=\"age\"><a href=\"item?id=22026089\">2 hours ago</a></span> <span id=\"unv_22026089\"></span> | <a href=\"hide?id=22026089&amp;goto=news\">hide</a> | <a href=\"item?id=22026089\">5&nbsp;comments</a>              </td></tr>\n",
      "      <tr class=\"spacer\" style=\"height:5px\"></tr>\n",
      "                <tr class='athing' id='22023578'>\n",
      "      <td align=\"right\" valign=\"top\" class=\"title\"><span class=\"rank\">10.</span></td>      <td valign=\"top\" class=\"votelinks\"><center><a id='up_22023578' href='vote?id=22023578&amp;how=up&amp;goto=news'><div class='votearrow' title='upvote'></div></a></center></td><td class=\"title\"><a href=\"https://www.theguardian.com/environment/2020/jan/07/honeybees-deaths-almonds-hives-aoe\" class=\"storylink\">Bees are essential to the almond industry, and billions are dying in the process</a><span class=\"sitebit comhead\"> (<a href=\"from?site=theguardian.com\"><span class=\"sitestr\">theguardian.com</span></a>)</span></td></tr><tr><td colspan=\"2\"></td><td class=\"subtext\">\n",
      "        <span class=\"score\" id=\"score_22023578\">98 points</span> by <a href=\"user?id=prostoalex\" class=\"hnuser\">prostoalex</a> <span class=\"age\"><a href=\"item?id=22023578\">14 hours ago</a></span> <span id=\"unv_22023578\"></span> | <a href=\"hide?id=22023578&amp;goto=news\">hide</a> | <a href=\"item?id=22023578\">72&nbsp;comments</a>              </td></tr>\n",
      "      <tr class=\"spacer\" style=\"height:5px\"></tr>\n",
      "                <tr class='athing' id='22025182'>\n",
      "      <td align=\"right\" valign=\"top\" class=\"title\"><span class=\"rank\">11.</span></td>      <td valign=\"top\" class=\"votelinks\"><center><a id='up_22025182' href='vote?id=22025182&amp;how=up&amp;goto=news'><div class='votearrow' title='upvote'></div></a></center></td><td class=\"title\"><a href=\"https://www.newyorker.com/culture/annals-of-inquiry/the-mechanical-muse\" class=\"storylink\">The Mechanical Muse</a><span class=\"sitebit comhead\"> (<a href=\"from?site=newyorker.com\"><span class=\"sitestr\">newyorker.com</span></a>)</span></td></tr><tr><td colspan=\"2\"></td><td class=\"subtext\">\n",
      "        <span class=\"score\" id=\"score_22025182\">11 points</span> by <a href=\"user?id=ingve\" class=\"hnuser\">ingve</a> <span class=\"age\"><a href=\"item?id=22025182\">4 hours ago</a></span> <span id=\"unv_22025182\"></span> | <a href=\"hide?id=22025182&amp;goto=news\">hide</a> | <a href=\"item?id=22025182\">2&nbsp;comments</a>              </td></tr>\n",
      "      <tr class=\"spacer\" style=\"height:5px\"></tr>\n",
      "                <tr class='athing' id='22025113'>\n",
      "      <td align=\"right\" valign=\"top\" class=\"title\"><span class=\"rank\">12.</span></td>      <td valign=\"top\" class=\"votelinks\"><center><a id='up_22025113' href='vote?id=22025113&amp;how=up&amp;goto=news'><div class='votearrow' title='upvote'></div></a></center></td><td class=\"title\"><a href=\"https://climatescape.org/\" class=\"storylink\">Climatescape.org – Mapping the global landscape of climate-saving organizations</a><span class=\"sitebit comhead\"> (<a href=\"from?site=climatescape.org\"><span class=\"sitestr\">climatescape.org</span></a>)</span></td></tr><tr><td colspan=\"2\"></td><td class=\"subtext\">\n",
      "        <span class=\"score\" id=\"score_22025113\">63 points</span> by <a href=\"user?id=leventov\" class=\"hnuser\">leventov</a> <span class=\"age\"><a href=\"item?id=22025113\">7 hours ago</a></span> <span id=\"unv_22025113\"></span> | <a href=\"hide?id=22025113&amp;goto=news\">hide</a> | <a href=\"item?id=22025113\">15&nbsp;comments</a>              </td></tr>\n",
      "      <tr class=\"spacer\" style=\"height:5px\"></tr>\n",
      "                <tr class='athing' id='22024672'>\n",
      "      <td align=\"right\" valign=\"top\" class=\"title\"><span class=\"rank\">13.</span></td>      <td valign=\"top\" class=\"votelinks\"><center><a id='up_22024672' href='vote?id=22024672&amp;how=up&amp;goto=news'><div class='votearrow' title='upvote'></div></a></center></td><td class=\"title\"><a href=\"https://www.hotchips.org/hc31-keynotes-available-to-all/\" class=\"storylink\">Hot Chips Symposium – Keynotes (2019) [video]</a><span class=\"sitebit comhead\"> (<a href=\"from?site=hotchips.org\"><span class=\"sitestr\">hotchips.org</span></a>)</span></td></tr><tr><td colspan=\"2\"></td><td class=\"subtext\">\n",
      "        <span class=\"score\" id=\"score_22024672\">22 points</span> by <a href=\"user?id=Ice_cream_suit\" class=\"hnuser\">Ice_cream_suit</a> <span class=\"age\"><a href=\"item?id=22024672\">9 hours ago</a></span> <span id=\"unv_22024672\"></span> | <a href=\"hide?id=22024672&amp;goto=news\">hide</a> | <a href=\"item?id=22024672\">2&nbsp;comments</a>              </td></tr>\n",
      "      <tr class=\"spacer\" style=\"height:5px\"></tr>\n",
      "                <tr class='athing' id='22023531'>\n",
      "      <td align=\"right\" valign=\"top\" class=\"title\"><span class=\"rank\">14.</span></td>      <td valign=\"top\" class=\"votelinks\"><center><a id='up_22023531' href='vote?id=22023531&amp;how=up&amp;goto=news'><div class='votearrow' title='upvote'></div></a></center></td><td class=\"title\"><a href=\"https://arstechnica.com/science/2019/12/injecting-the-flu-vaccine-into-a-tumor-gets-the-immune-system-to-attack-it/\" class=\"storylink\">Injecting the flu vaccine into a tumor gets the immune system to attack it</a><span class=\"sitebit comhead\"> (<a href=\"from?site=arstechnica.com\"><span class=\"sitestr\">arstechnica.com</span></a>)</span></td></tr><tr><td colspan=\"2\"></td><td class=\"subtext\">\n",
      "        <span class=\"score\" id=\"score_22023531\">196 points</span> by <a href=\"user?id=apsec112\" class=\"hnuser\">apsec112</a> <span class=\"age\"><a href=\"item?id=22023531\">14 hours ago</a></span> <span id=\"unv_22023531\"></span> | <a href=\"hide?id=22023531&amp;goto=news\">hide</a> | <a href=\"item?id=22023531\">30&nbsp;comments</a>              </td></tr>\n",
      "      <tr class=\"spacer\" style=\"height:5px\"></tr>\n",
      "                <tr class='athing' id='22024216'>\n",
      "      <td align=\"right\" valign=\"top\" class=\"title\"><span class=\"rank\">15.</span></td>      <td valign=\"top\" class=\"votelinks\"><center><a id='up_22024216' href='vote?id=22024216&amp;how=up&amp;goto=news'><div class='votearrow' title='upvote'></div></a></center></td><td class=\"title\"><a href=\"https://www.thecut.com/2020/01/obituary-writer-elizabeth-wurtzel.html#_ga=2.118839755.319417448.1578604501-260754380.1520022068\" class=\"storylink\" rel=\"nofollow\">Remembering Elizabeth Wurtzel, a Proudly Difficult Person</a><span class=\"sitebit comhead\"> (<a href=\"from?site=thecut.com\"><span class=\"sitestr\">thecut.com</span></a>)</span></td></tr><tr><td colspan=\"2\"></td><td class=\"subtext\">\n",
      "        <span class=\"score\" id=\"score_22024216\">5 points</span> by <a href=\"user?id=samclemens\" class=\"hnuser\">samclemens</a> <span class=\"age\"><a href=\"item?id=22024216\">4 hours ago</a></span> <span id=\"unv_22024216\"></span> | <a href=\"hide?id=22024216&amp;goto=news\">hide</a> | <a href=\"item?id=22024216\">discuss</a>              </td></tr>\n",
      "      <tr class=\"spacer\" style=\"height:5px\"></tr>\n",
      "                <tr class='athing' id='22025181'>\n",
      "      <td align=\"right\" valign=\"top\" class=\"title\"><span class=\"rank\">16.</span></td>      <td valign=\"top\" class=\"votelinks\"><center><a id='up_22025181' href='vote?id=22025181&amp;how=up&amp;goto=news'><div class='votearrow' title='upvote'></div></a></center></td><td class=\"title\"><a href=\"https://members.tortoisemedia.com/2020/01/06/day-1-apple-state-of-the-nation-2/content.html?sig=3Da9Giih1ATNXZEbc0Gqtf-UPHEEStMIOjMY5AFMW8Q\" class=\"storylink\">Tech giants have as much money and influence as nations</a><span class=\"sitebit comhead\"> (<a href=\"from?site=tortoisemedia.com\"><span class=\"sitestr\">tortoisemedia.com</span></a>)</span></td></tr><tr><td colspan=\"2\"></td><td class=\"subtext\">\n",
      "        <span class=\"score\" id=\"score_22025181\">80 points</span> by <a href=\"user?id=hunglee2\" class=\"hnuser\">hunglee2</a> <span class=\"age\"><a href=\"item?id=22025181\">6 hours ago</a></span> <span id=\"unv_22025181\"></span> | <a href=\"hide?id=22025181&amp;goto=news\">hide</a> | <a href=\"item?id=22025181\">57&nbsp;comments</a>              </td></tr>\n",
      "      <tr class=\"spacer\" style=\"height:5px\"></tr>\n",
      "                <tr class='athing' id='22022598'>\n",
      "      <td align=\"right\" valign=\"top\" class=\"title\"><span class=\"rank\">17.</span></td>      <td valign=\"top\" class=\"votelinks\"><center><a id='up_22022598' href='vote?id=22022598&amp;how=up&amp;goto=news'><div class='votearrow' title='upvote'></div></a></center></td><td class=\"title\"><a href=\"https://undeadly.org/cgi?action=article;sid=20200109141600\" class=\"storylink\">OpenBSD won't update Firefox, advises users to switch to ESR</a><span class=\"sitebit comhead\"> (<a href=\"from?site=undeadly.org\"><span class=\"sitestr\">undeadly.org</span></a>)</span></td></tr><tr><td colspan=\"2\"></td><td class=\"subtext\">\n",
      "        <span class=\"score\" id=\"score_22022598\">212 points</span> by <a href=\"user?id=jackhalford\" class=\"hnuser\">jackhalford</a> <span class=\"age\"><a href=\"item?id=22022598\">17 hours ago</a></span> <span id=\"unv_22022598\"></span> | <a href=\"hide?id=22022598&amp;goto=news\">hide</a> | <a href=\"item?id=22022598\">250&nbsp;comments</a>              </td></tr>\n",
      "      <tr class=\"spacer\" style=\"height:5px\"></tr>\n",
      "                <tr class='athing' id='22020495'>\n",
      "      <td align=\"right\" valign=\"top\" class=\"title\"><span class=\"rank\">18.</span></td>      <td valign=\"top\" class=\"votelinks\"><center><a id='up_22020495' href='vote?id=22020495&amp;how=up&amp;goto=news'><div class='votearrow' title='upvote'></div></a></center></td><td class=\"title\"><a href=\"http://johnsalvatier.org/blog/2017/reality-has-a-surprising-amount-of-detail\" class=\"storylink\">Reality has a surprising amount of detail (2017)</a><span class=\"sitebit comhead\"> (<a href=\"from?site=johnsalvatier.org\"><span class=\"sitestr\">johnsalvatier.org</span></a>)</span></td></tr><tr><td colspan=\"2\"></td><td class=\"subtext\">\n",
      "        <span class=\"score\" id=\"score_22020495\">418 points</span> by <a href=\"user?id=tosh\" class=\"hnuser\">tosh</a> <span class=\"age\"><a href=\"item?id=22020495\">23 hours ago</a></span> <span id=\"unv_22020495\"></span> | <a href=\"hide?id=22020495&amp;goto=news\">hide</a> | <a href=\"item?id=22020495\">102&nbsp;comments</a>              </td></tr>\n",
      "      <tr class=\"spacer\" style=\"height:5px\"></tr>\n",
      "                <tr class='athing' id='22022106'>\n",
      "      <td align=\"right\" valign=\"top\" class=\"title\"><span class=\"rank\">19.</span></td>      <td valign=\"top\" class=\"votelinks\"><center><a id='up_22022106' href='vote?id=22022106&amp;how=up&amp;goto=news'><div class='votearrow' title='upvote'></div></a></center></td><td class=\"title\"><a href=\"https://www.twilio.com/blog/html-attributes-two-factor-authentication-autocomplete\" class=\"storylink\">HTML attributes to improve your users' two factor authentication experience</a><span class=\"sitebit comhead\"> (<a href=\"from?site=twilio.com\"><span class=\"sitestr\">twilio.com</span></a>)</span></td></tr><tr><td colspan=\"2\"></td><td class=\"subtext\">\n",
      "        <span class=\"score\" id=\"score_22022106\">280 points</span> by <a href=\"user?id=ecaron\" class=\"hnuser\">ecaron</a> <span class=\"age\"><a href=\"item?id=22022106\">18 hours ago</a></span> <span id=\"unv_22022106\"></span> | <a href=\"hide?id=22022106&amp;goto=news\">hide</a> | <a href=\"item?id=22022106\">73&nbsp;comments</a>              </td></tr>\n",
      "      <tr class=\"spacer\" style=\"height:5px\"></tr>\n",
      "                <tr class='athing' id='22026087'>\n",
      "      <td align=\"right\" valign=\"top\" class=\"title\"><span class=\"rank\">20.</span></td>      <td valign=\"top\" class=\"votelinks\"><center><a id='up_22026087' href='vote?id=22026087&amp;how=up&amp;goto=news'><div class='votearrow' title='upvote'></div></a></center></td><td class=\"title\"><a href=\"https://www.wired.com/story/facebook-bug-page-admins-edit-history-doxxing/\" class=\"storylink\">A Facebook Bug Exposed Anonymous Admins of Pages</a><span class=\"sitebit comhead\"> (<a href=\"from?site=wired.com\"><span class=\"sitestr\">wired.com</span></a>)</span></td></tr><tr><td colspan=\"2\"></td><td class=\"subtext\">\n",
      "        <span class=\"score\" id=\"score_22026087\">7 points</span> by <a href=\"user?id=pferde\" class=\"hnuser\">pferde</a> <span class=\"age\"><a href=\"item?id=22026087\">2 hours ago</a></span> <span id=\"unv_22026087\"></span> | <a href=\"hide?id=22026087&amp;goto=news\">hide</a> | <a href=\"item?id=22026087\">discuss</a>              </td></tr>\n",
      "      <tr class=\"spacer\" style=\"height:5px\"></tr>\n",
      "                <tr class='athing' id='22021956'>\n",
      "      <td align=\"right\" valign=\"top\" class=\"title\"><span class=\"rank\">21.</span></td>      <td valign=\"top\" class=\"votelinks\"><center><a id='up_22021956' href='vote?id=22021956&amp;how=up&amp;goto=news'><div class='votearrow' title='upvote'></div></a></center></td><td class=\"title\"><a href=\"https://www.theverge.com/2019/12/19/21030601/lyft-algorithm-block-names-inappropriate-obscene\" class=\"storylink\">Lyft’s algorithm is trying to block people with names like ‘Dick’ and ‘Cummings’</a><span class=\"sitebit comhead\"> (<a href=\"from?site=theverge.com\"><span class=\"sitestr\">theverge.com</span></a>)</span></td></tr><tr><td colspan=\"2\"></td><td class=\"subtext\">\n",
      "        <span class=\"score\" id=\"score_22021956\">210 points</span> by <a href=\"user?id=danso\" class=\"hnuser\">danso</a> <span class=\"age\"><a href=\"item?id=22021956\">18 hours ago</a></span> <span id=\"unv_22021956\"></span> | <a href=\"hide?id=22021956&amp;goto=news\">hide</a> | <a href=\"item?id=22021956\">214&nbsp;comments</a>              </td></tr>\n",
      "      <tr class=\"spacer\" style=\"height:5px\"></tr>\n",
      "                <tr class='athing' id='22023266'>\n",
      "      <td align=\"right\" valign=\"top\" class=\"title\"><span class=\"rank\">22.</span></td>      <td valign=\"top\" class=\"votelinks\"><center><a id='up_22023266' href='vote?id=22023266&amp;how=up&amp;goto=news'><div class='votearrow' title='upvote'></div></a></center></td><td class=\"title\"><a href=\"https://weinholt.se/articles/r7rs-vs-r6rs/\" class=\"storylink\">R7RS versus R6RS (2018)</a><span class=\"sitebit comhead\"> (<a href=\"from?site=weinholt.se\"><span class=\"sitestr\">weinholt.se</span></a>)</span></td></tr><tr><td colspan=\"2\"></td><td class=\"subtext\">\n",
      "        <span class=\"score\" id=\"score_22023266\">124 points</span> by <a href=\"user?id=fanf2\" class=\"hnuser\">fanf2</a> <span class=\"age\"><a href=\"item?id=22023266\">15 hours ago</a></span> <span id=\"unv_22023266\"></span> | <a href=\"hide?id=22023266&amp;goto=news\">hide</a> | <a href=\"item?id=22023266\">41&nbsp;comments</a>              </td></tr>\n",
      "      <tr class=\"spacer\" style=\"height:5px\"></tr>\n",
      "                <tr class='athing' id='22022269'>\n",
      "      <td align=\"right\" valign=\"top\" class=\"title\"><span class=\"rank\">23.</span></td>      <td valign=\"top\" class=\"votelinks\"><center><a id='up_22022269' href='vote?id=22022269&amp;how=up&amp;goto=news'><div class='votearrow' title='upvote'></div></a></center></td><td class=\"title\"><a href=\"https://kary.us/nota/\" class=\"storylink\">A calculator for the Terminal that renders beautiful math</a><span class=\"sitebit comhead\"> (<a href=\"from?site=kary.us\"><span class=\"sitestr\">kary.us</span></a>)</span></td></tr><tr><td colspan=\"2\"></td><td class=\"subtext\">\n",
      "        <span class=\"score\" id=\"score_22022269\">189 points</span> by <a href=\"user?id=pmkary\" class=\"hnuser\">pmkary</a> <span class=\"age\"><a href=\"item?id=22022269\">18 hours ago</a></span> <span id=\"unv_22022269\"></span> | <a href=\"hide?id=22022269&amp;goto=news\">hide</a> | <a href=\"item?id=22022269\">57&nbsp;comments</a>              </td></tr>\n",
      "      <tr class=\"spacer\" style=\"height:5px\"></tr>\n",
      "                <tr class='athing' id='22019597'>\n",
      "      <td align=\"right\" valign=\"top\" class=\"title\"><span class=\"rank\">24.</span></td>      <td valign=\"top\" class=\"votelinks\"><center><a id='up_22019597' href='vote?id=22019597&amp;how=up&amp;goto=news'><div class='votearrow' title='upvote'></div></a></center></td><td class=\"title\"><a href=\"https://techcrunch.com/2020/01/10/medical-images-exposed-pacs/\" class=\"storylink\">A billion medical images are exposed online</a><span class=\"sitebit comhead\"> (<a href=\"from?site=techcrunch.com\"><span class=\"sitestr\">techcrunch.com</span></a>)</span></td></tr><tr><td colspan=\"2\"></td><td class=\"subtext\">\n",
      "        <span class=\"score\" id=\"score_22019597\">325 points</span> by <a href=\"user?id=OrgNet\" class=\"hnuser\">OrgNet</a> <span class=\"age\"><a href=\"item?id=22019597\">1 day ago</a></span> <span id=\"unv_22019597\"></span> | <a href=\"hide?id=22019597&amp;goto=news\">hide</a> | <a href=\"item?id=22019597\">168&nbsp;comments</a>              </td></tr>\n",
      "      <tr class=\"spacer\" style=\"height:5px\"></tr>\n",
      "                <tr class='athing' id='22019925'>\n",
      "      <td align=\"right\" valign=\"top\" class=\"title\"><span class=\"rank\">25.</span></td>      <td valign=\"top\" class=\"votelinks\"><center><a id='up_22019925' href='vote?id=22019925&amp;how=up&amp;goto=news'><div class='votearrow' title='upvote'></div></a></center></td><td class=\"title\"><a href=\"https://marker.medium.com/the-man-whos-spending-1-billion-to-own-every-pop-song-75df0024155b\" class=\"storylink\">A Man Who’s Spending $1B to Own Every Pop Song</a><span class=\"sitebit comhead\"> (<a href=\"from?site=marker.medium.com\"><span class=\"sitestr\">marker.medium.com</span></a>)</span></td></tr><tr><td colspan=\"2\"></td><td class=\"subtext\">\n",
      "        <span class=\"score\" id=\"score_22019925\">318 points</span> by <a href=\"user?id=SirLJ\" class=\"hnuser\">SirLJ</a> <span class=\"age\"><a href=\"item?id=22019925\">1 day ago</a></span> <span id=\"unv_22019925\"></span> | <a href=\"hide?id=22019925&amp;goto=news\">hide</a> | <a href=\"item?id=22019925\">207&nbsp;comments</a>              </td></tr>\n",
      "      <tr class=\"spacer\" style=\"height:5px\"></tr>\n",
      "                <tr class='athing' id='22016212'>\n",
      "      <td align=\"right\" valign=\"top\" class=\"title\"><span class=\"rank\">26.</span></td>      <td valign=\"top\" class=\"votelinks\"><center><a id='up_22016212' href='vote?id=22016212&amp;how=up&amp;goto=news'><div class='votearrow' title='upvote'></div></a></center></td><td class=\"title\"><a href=\"https://www.issms2fasecure.com/\" class=\"storylink\">SMS is not 2FA-secure</a><span class=\"sitebit comhead\"> (<a href=\"from?site=issms2fasecure.com\"><span class=\"sitestr\">issms2fasecure.com</span></a>)</span></td></tr><tr><td colspan=\"2\"></td><td class=\"subtext\">\n",
      "        <span class=\"score\" id=\"score_22016212\">804 points</span> by <a href=\"user?id=sergeant3\" class=\"hnuser\">sergeant3</a> <span class=\"age\"><a href=\"item?id=22016212\">1 day ago</a></span> <span id=\"unv_22016212\"></span> | <a href=\"hide?id=22016212&amp;goto=news\">hide</a> | <a href=\"item?id=22016212\">342&nbsp;comments</a>              </td></tr>\n",
      "      <tr class=\"spacer\" style=\"height:5px\"></tr>\n",
      "                <tr class='athing' id='22021309'>\n",
      "      <td align=\"right\" valign=\"top\" class=\"title\"><span class=\"rank\">27.</span></td>      <td valign=\"top\" class=\"votelinks\"><center><a id='up_22021309' href='vote?id=22021309&amp;how=up&amp;goto=news'><div class='votearrow' title='upvote'></div></a></center></td><td class=\"title\"><a href=\"https://nest.pijul.com/pijul_org/pijul\" class=\"storylink\">Pijul: a distributed version control system, written in Rust (2019)</a><span class=\"sitebit comhead\"> (<a href=\"from?site=pijul.com\"><span class=\"sitestr\">pijul.com</span></a>)</span></td></tr><tr><td colspan=\"2\"></td><td class=\"subtext\">\n",
      "        <span class=\"score\" id=\"score_22021309\">215 points</span> by <a href=\"user?id=tosh\" class=\"hnuser\">tosh</a> <span class=\"age\"><a href=\"item?id=22021309\">20 hours ago</a></span> <span id=\"unv_22021309\"></span> | <a href=\"hide?id=22021309&amp;goto=news\">hide</a> | <a href=\"item?id=22021309\">103&nbsp;comments</a>              </td></tr>\n",
      "      <tr class=\"spacer\" style=\"height:5px\"></tr>\n",
      "                <tr class='athing' id='22019202'>\n",
      "      <td align=\"right\" valign=\"top\" class=\"title\"><span class=\"rank\">28.</span></td>      <td valign=\"top\" class=\"votelinks\"><center><a id='up_22019202' href='vote?id=22019202&amp;how=up&amp;goto=news'><div class='votearrow' title='upvote'></div></a></center></td><td class=\"title\"><a href=\"https://www.bbc.com/future/article/20200108-the-medications-that-change-who-we-are\" class=\"storylink\">Medications that change who we are</a><span class=\"sitebit comhead\"> (<a href=\"from?site=bbc.com\"><span class=\"sitestr\">bbc.com</span></a>)</span></td></tr><tr><td colspan=\"2\"></td><td class=\"subtext\">\n",
      "        <span class=\"score\" id=\"score_22019202\">363 points</span> by <a href=\"user?id=daveytea\" class=\"hnuser\">daveytea</a> <span class=\"age\"><a href=\"item?id=22019202\">1 day ago</a></span> <span id=\"unv_22019202\"></span> | <a href=\"hide?id=22019202&amp;goto=news\">hide</a> | <a href=\"item?id=22019202\">253&nbsp;comments</a>              </td></tr>\n",
      "      <tr class=\"spacer\" style=\"height:5px\"></tr>\n",
      "                <tr class='athing' id='22020229'>\n",
      "      <td align=\"right\" valign=\"top\" class=\"title\"><span class=\"rank\">29.</span></td>      <td valign=\"top\" class=\"votelinks\"><center><a id='up_22020229' href='vote?id=22020229&amp;how=up&amp;goto=news'><div class='votearrow' title='upvote'></div></a></center></td><td class=\"title\"><a href=\"http://bfnightly.bracketproductions.com/rustbook/\" class=\"storylink\">How to make roguelike games in Rust</a><span class=\"sitebit comhead\"> (<a href=\"from?site=bracketproductions.com\"><span class=\"sitestr\">bracketproductions.com</span></a>)</span></td></tr><tr><td colspan=\"2\"></td><td class=\"subtext\">\n",
      "        <span class=\"score\" id=\"score_22020229\">270 points</span> by <a href=\"user?id=agluszak\" class=\"hnuser\">agluszak</a> <span class=\"age\"><a href=\"item?id=22020229\">23 hours ago</a></span> <span id=\"unv_22020229\"></span> | <a href=\"hide?id=22020229&amp;goto=news\">hide</a> | <a href=\"item?id=22020229\">50&nbsp;comments</a>              </td></tr>\n",
      "      <tr class=\"spacer\" style=\"height:5px\"></tr>\n",
      "                <tr class='athing' id='22020796'>\n",
      "      <td align=\"right\" valign=\"top\" class=\"title\"><span class=\"rank\">30.</span></td>      <td valign=\"top\" class=\"votelinks\"><center><a id='up_22020796' href='vote?id=22020796&amp;how=up&amp;goto=news'><div class='votearrow' title='upvote'></div></a></center></td><td class=\"title\"><a href=\"https://www.theguardian.com/commentisfree/2020/jan/11/we-are-approaching-the-limits-of-computer-power-we-need-new-programmers-n-ow\" class=\"storylink\">We’re approaching the limits of computer power – we need new programmers</a><span class=\"sitebit comhead\"> (<a href=\"from?site=theguardian.com\"><span class=\"sitestr\">theguardian.com</span></a>)</span></td></tr><tr><td colspan=\"2\"></td><td class=\"subtext\">\n",
      "        <span class=\"score\" id=\"score_22020796\">174 points</span> by <a href=\"user?id=notinventedhear\" class=\"hnuser\">notinventedhear</a> <span class=\"age\"><a href=\"item?id=22020796\">22 hours ago</a></span> <span id=\"unv_22020796\"></span> | <a href=\"hide?id=22020796&amp;goto=news\">hide</a> | <a href=\"item?id=22020796\">187&nbsp;comments</a>              </td></tr>\n",
      "      <tr class=\"spacer\" style=\"height:5px\"></tr>\n",
      "            <tr class=\"morespace\" style=\"height:10px\"></tr><tr><td colspan=\"2\"></td><td class=\"title\"><a href=\"news?p=2\" class=\"morelink\" rel=\"next\">More</a></td></tr>\n",
      "  </table>\n",
      "</td></tr>\n",
      "<tr><td><img src=\"s.gif\" height=\"10\" width=\"0\"><table width=\"100%\" cellspacing=\"0\" cellpadding=\"1\"><tr><td bgcolor=\"#ff6600\"></td></tr></table><br><center><span class=\"yclinks\"><a href=\"newsguidelines.html\">Guidelines</a>\n",
      "        | <a href=\"newsfaq.html\">FAQ</a>\n",
      "        | <a href=\"mailto:hn@ycombinator.com\">Support</a>\n",
      "        | <a href=\"https://github.com/HackerNews/API\">API</a>\n",
      "        | <a href=\"security.html\">Security</a>\n",
      "        | <a href=\"lists\">Lists</a>\n",
      "        | <a href=\"bookmarklet.html\" rel=\"nofollow\">Bookmarklet</a>\n",
      "        | <a href=\"http://www.ycombinator.com/legal/\">Legal</a>\n",
      "        | <a href=\"http://www.ycombinator.com/apply/\">Apply to YC</a>\n",
      "        | <a href=\"mailto:hn@ycombinator.com\">Contact</a></span><br><br><form method=\"get\" action=\"//hn.algolia.com/\">Search:\n",
      "          <input type=\"text\" name=\"q\" value=\"\" size=\"17\" autocorrect=\"off\" spellcheck=\"false\" autocapitalize=\"off\" autocomplete=\"false\"></form>\n",
      "            </center></td></tr>\n",
      "      </table></center></body><script type='text/javascript' src='hn.js?6GIRz7CscTt3zxPU8zV7'></script></html>\n",
      "\n"
     ]
    }
   ],
   "source": [
    "import requests\n",
    "\n",
    "# Fetch a web page\n",
    "r = requests.get(\"https://news.ycombinator.com\")\n",
    "print(r.text)"
   ]
  },
  {
   "cell_type": "code",
   "execution_count": 5,
   "metadata": {},
   "outputs": [
    {
     "name": "stdout",
     "output_type": "stream",
     "text": [
      "\n",
      "        \n",
      "          \n",
      "        Hacker News\n",
      "        \n",
      "                  Hacker News\n",
      "              new | past | comments | ask | show | jobs | submit            \n",
      "                              login\n",
      "                          \n",
      "              \n",
      "\n",
      "              \n",
      "      1.      Ocean Cleaning Device Succeeds in Removing Plastic for the First Time (ecowatch.com)\n",
      "        91 points by lelf 4 hours ago  | hide | 39&nbsp;comments              \n",
      "      \n",
      "                \n",
      "      2.      Space Invaders (computerarcheology.com)\n",
      "        54 points by Tomte 4 hours ago  | hide | 7&nbsp;comments              \n",
      "      \n",
      "                \n",
      "      3.      Rete: JavaScript framework for visual programming and creating node editor (github.com)\n",
      "        195 points by thisisastopsign 11 hours ago  | hide | 42&nbsp;comments              \n",
      "      \n",
      "                \n",
      "      4.      Understanding Memory Cards (photographylife.com)\n",
      "        24 points by emptybits 4 hours ago  | hide | 3&nbsp;comments              \n",
      "      \n",
      "                \n",
      "      5.      Goodbye, Clean Code (overreacted.io)\n",
      "        1226 points by danabramov 17 hours ago  | hide | 428&nbsp;comments              \n",
      "      \n",
      "                \n",
      "      6.      Trivers–Willard Hypothesis (wikipedia.org)\n",
      "        19 points by RedAlakazam 3 hours ago  | hide | 5&nbsp;comments              \n",
      "      \n",
      "                \n",
      "      7.      The Case for Bayesian Deep Learning (nyu.edu)\n",
      "        159 points by hardmaru 14 hours ago  | hide | 29&nbsp;comments              \n",
      "      \n",
      "                \n",
      "      8.      What I think what we need to do to keep FreeBSD relevant (2019) (leidinger.net)\n",
      "        56 points by rodrigo975 8 hours ago  | hide | 41&nbsp;comments              \n",
      "      \n",
      "                \n",
      "      9.      How I make $400/month with my technical eBook (twitter.com)\n",
      "        39 points by ksahin 2 hours ago  | hide | 5&nbsp;comments              \n",
      "      \n",
      "                \n",
      "      10.      Bees are essential to the almond industry, and billions are dying in the process (theguardian.com)\n",
      "        98 points by prostoalex 14 hours ago  | hide | 72&nbsp;comments              \n",
      "      \n",
      "                \n",
      "      11.      The Mechanical Muse (newyorker.com)\n",
      "        11 points by ingve 4 hours ago  | hide | 2&nbsp;comments              \n",
      "      \n",
      "                \n",
      "      12.      Climatescape.org – Mapping the global landscape of climate-saving organizations (climatescape.org)\n",
      "        63 points by leventov 7 hours ago  | hide | 15&nbsp;comments              \n",
      "      \n",
      "                \n",
      "      13.      Hot Chips Symposium – Keynotes (2019) [video] (hotchips.org)\n",
      "        22 points by Ice_cream_suit 9 hours ago  | hide | 2&nbsp;comments              \n",
      "      \n",
      "                \n",
      "      14.      Injecting the flu vaccine into a tumor gets the immune system to attack it (arstechnica.com)\n",
      "        196 points by apsec112 14 hours ago  | hide | 30&nbsp;comments              \n",
      "      \n",
      "                \n",
      "      15.      Remembering Elizabeth Wurtzel, a Proudly Difficult Person (thecut.com)\n",
      "        5 points by samclemens 4 hours ago  | hide | discuss              \n",
      "      \n",
      "                \n",
      "      16.      Tech giants have as much money and influence as nations (tortoisemedia.com)\n",
      "        80 points by hunglee2 6 hours ago  | hide | 57&nbsp;comments              \n",
      "      \n",
      "                \n",
      "      17.      OpenBSD won't update Firefox, advises users to switch to ESR (undeadly.org)\n",
      "        212 points by jackhalford 17 hours ago  | hide | 250&nbsp;comments              \n",
      "      \n",
      "                \n",
      "      18.      Reality has a surprising amount of detail (2017) (johnsalvatier.org)\n",
      "        418 points by tosh 23 hours ago  | hide | 102&nbsp;comments              \n",
      "      \n",
      "                \n",
      "      19.      HTML attributes to improve your users' two factor authentication experience (twilio.com)\n",
      "        280 points by ecaron 18 hours ago  | hide | 73&nbsp;comments              \n",
      "      \n",
      "                \n",
      "      20.      A Facebook Bug Exposed Anonymous Admins of Pages (wired.com)\n",
      "        7 points by pferde 2 hours ago  | hide | discuss              \n",
      "      \n",
      "                \n",
      "      21.      Lyft’s algorithm is trying to block people with names like ‘Dick’ and ‘Cummings’ (theverge.com)\n",
      "        210 points by danso 18 hours ago  | hide | 214&nbsp;comments              \n",
      "      \n",
      "                \n",
      "      22.      R7RS versus R6RS (2018) (weinholt.se)\n",
      "        124 points by fanf2 15 hours ago  | hide | 41&nbsp;comments              \n",
      "      \n",
      "                \n",
      "      23.      A calculator for the Terminal that renders beautiful math (kary.us)\n",
      "        189 points by pmkary 18 hours ago  | hide | 57&nbsp;comments              \n",
      "      \n",
      "                \n",
      "      24.      A billion medical images are exposed online (techcrunch.com)\n",
      "        325 points by OrgNet 1 day ago  | hide | 168&nbsp;comments              \n",
      "      \n",
      "                \n",
      "      25.      A Man Who’s Spending $1B to Own Every Pop Song (marker.medium.com)\n",
      "        318 points by SirLJ 1 day ago  | hide | 207&nbsp;comments              \n",
      "      \n",
      "                \n",
      "      26.      SMS is not 2FA-secure (issms2fasecure.com)\n",
      "        804 points by sergeant3 1 day ago  | hide | 342&nbsp;comments              \n",
      "      \n",
      "                \n",
      "      27.      Pijul: a distributed version control system, written in Rust (2019) (pijul.com)\n",
      "        215 points by tosh 20 hours ago  | hide | 103&nbsp;comments              \n",
      "      \n",
      "                \n",
      "      28.      Medications that change who we are (bbc.com)\n",
      "        363 points by daveytea 1 day ago  | hide | 253&nbsp;comments              \n",
      "      \n",
      "                \n",
      "      29.      How to make roguelike games in Rust (bracketproductions.com)\n",
      "        270 points by agluszak 23 hours ago  | hide | 50&nbsp;comments              \n",
      "      \n",
      "                \n",
      "      30.      We’re approaching the limits of computer power – we need new programmers (theguardian.com)\n",
      "        174 points by notinventedhear 22 hours ago  | hide | 187&nbsp;comments              \n",
      "      \n",
      "            More\n",
      "  \n",
      "\n",
      "Guidelines\n",
      "        | FAQ\n",
      "        | Support\n",
      "        | API\n",
      "        | Security\n",
      "        | Lists\n",
      "        | Bookmarklet\n",
      "        | Legal\n",
      "        | Apply to YC\n",
      "        | ContactSearch:\n",
      "          \n",
      "            \n",
      "      \n",
      "\n"
     ]
    }
   ],
   "source": [
    "import re\n",
    "\n",
    "# Remove HTML tags using RegEx\n",
    "pattern = re.compile(r'<.*?>')  # tags look like <...>\n",
    "print(pattern.sub('', r.text))  # replace them with blank"
   ]
  },
  {
   "cell_type": "code",
   "execution_count": 6,
   "metadata": {},
   "outputs": [
    {
     "name": "stdout",
     "output_type": "stream",
     "text": [
      "\n",
      "        \n",
      "          \n",
      "        Hacker News\n",
      "        \n",
      "                  Hacker News\n",
      "              new | past | comments | ask | show | jobs | submit            \n",
      "                              login\n",
      "                          \n",
      "              \n",
      "\n",
      "              \n",
      "      1.      Ocean Cleaning Device Succeeds in Removing Plastic for the First Time (ecowatch.com)\n",
      "        91 points by lelf 4 hours ago  | hide | 39 comments              \n",
      "      \n",
      "                \n",
      "      2.      Space Invaders (computerarcheology.com)\n",
      "        54 points by Tomte 4 hours ago  | hide | 7 comments              \n",
      "      \n",
      "                \n",
      "      3.      Rete: JavaScript framework for visual programming and creating node editor (github.com)\n",
      "        195 points by thisisastopsign 11 hours ago  | hide | 42 comments              \n",
      "      \n",
      "                \n",
      "      4.      Understanding Memory Cards (photographylife.com)\n",
      "        24 points by emptybits 4 hours ago  | hide | 3 comments              \n",
      "      \n",
      "                \n",
      "      5.      Goodbye, Clean Code (overreacted.io)\n",
      "        1226 points by danabramov 17 hours ago  | hide | 428 comments              \n",
      "      \n",
      "                \n",
      "      6.      Trivers–Willard Hypothesis (wikipedia.org)\n",
      "        19 points by RedAlakazam 3 hours ago  | hide | 5 comments              \n",
      "      \n",
      "                \n",
      "      7.      The Case for Bayesian Deep Learning (nyu.edu)\n",
      "        159 points by hardmaru 14 hours ago  | hide | 29 comments              \n",
      "      \n",
      "                \n",
      "      8.      What I think what we need to do to keep FreeBSD relevant (2019) (leidinger.net)\n",
      "        56 points by rodrigo975 8 hours ago  | hide | 41 comments              \n",
      "      \n",
      "                \n",
      "      9.      How I make $400/month with my technical eBook (twitter.com)\n",
      "        39 points by ksahin 2 hours ago  | hide | 5 comments              \n",
      "      \n",
      "                \n",
      "      10.      Bees are essential to the almond industry, and billions are dying in the process (theguardian.com)\n",
      "        98 points by prostoalex 14 hours ago  | hide | 72 comments              \n",
      "      \n",
      "                \n",
      "      11.      The Mechanical Muse (newyorker.com)\n",
      "        11 points by ingve 4 hours ago  | hide | 2 comments              \n",
      "      \n",
      "                \n",
      "      12.      Climatescape.org – Mapping the global landscape of climate-saving organizations (climatescape.org)\n",
      "        63 points by leventov 7 hours ago  | hide | 15 comments              \n",
      "      \n",
      "                \n",
      "      13.      Hot Chips Symposium – Keynotes (2019) [video] (hotchips.org)\n",
      "        22 points by Ice_cream_suit 9 hours ago  | hide | 2 comments              \n",
      "      \n",
      "                \n",
      "      14.      Injecting the flu vaccine into a tumor gets the immune system to attack it (arstechnica.com)\n",
      "        196 points by apsec112 14 hours ago  | hide | 30 comments              \n",
      "      \n",
      "                \n",
      "      15.      Remembering Elizabeth Wurtzel, a Proudly Difficult Person (thecut.com)\n",
      "        5 points by samclemens 4 hours ago  | hide | discuss              \n",
      "      \n",
      "                \n",
      "      16.      Tech giants have as much money and influence as nations (tortoisemedia.com)\n",
      "        80 points by hunglee2 6 hours ago  | hide | 57 comments              \n",
      "      \n",
      "                \n",
      "      17.      OpenBSD won't update Firefox, advises users to switch to ESR (undeadly.org)\n",
      "        212 points by jackhalford 17 hours ago  | hide | 250 comments              \n",
      "      \n",
      "                \n",
      "      18.      Reality has a surprising amount of detail (2017) (johnsalvatier.org)\n",
      "        418 points by tosh 23 hours ago  | hide | 102 comments              \n",
      "      \n",
      "                \n",
      "      19.      HTML attributes to improve your users' two factor authentication experience (twilio.com)\n",
      "        280 points by ecaron 18 hours ago  | hide | 73 comments              \n",
      "      \n",
      "                \n",
      "      20.      A Facebook Bug Exposed Anonymous Admins of Pages (wired.com)\n",
      "        7 points by pferde 2 hours ago  | hide | discuss              \n",
      "      \n",
      "                \n",
      "      21.      Lyft’s algorithm is trying to block people with names like ‘Dick’ and ‘Cummings’ (theverge.com)\n",
      "        210 points by danso 18 hours ago  | hide | 214 comments              \n",
      "      \n",
      "                \n",
      "      22.      R7RS versus R6RS (2018) (weinholt.se)\n",
      "        124 points by fanf2 15 hours ago  | hide | 41 comments              \n",
      "      \n",
      "                \n",
      "      23.      A calculator for the Terminal that renders beautiful math (kary.us)\n",
      "        189 points by pmkary 18 hours ago  | hide | 57 comments              \n",
      "      \n",
      "                \n",
      "      24.      A billion medical images are exposed online (techcrunch.com)\n",
      "        325 points by OrgNet 1 day ago  | hide | 168 comments              \n",
      "      \n",
      "                \n",
      "      25.      A Man Who’s Spending $1B to Own Every Pop Song (marker.medium.com)\n",
      "        318 points by SirLJ 1 day ago  | hide | 207 comments              \n",
      "      \n",
      "                \n",
      "      26.      SMS is not 2FA-secure (issms2fasecure.com)\n",
      "        804 points by sergeant3 1 day ago  | hide | 342 comments              \n",
      "      \n",
      "                \n",
      "      27.      Pijul: a distributed version control system, written in Rust (2019) (pijul.com)\n",
      "        215 points by tosh 20 hours ago  | hide | 103 comments              \n",
      "      \n",
      "                \n",
      "      28.      Medications that change who we are (bbc.com)\n",
      "        363 points by daveytea 1 day ago  | hide | 253 comments              \n",
      "      \n",
      "                \n",
      "      29.      How to make roguelike games in Rust (bracketproductions.com)\n",
      "        270 points by agluszak 23 hours ago  | hide | 50 comments              \n",
      "      \n",
      "                \n",
      "      30.      We’re approaching the limits of computer power – we need new programmers (theguardian.com)\n",
      "        174 points by notinventedhear 22 hours ago  | hide | 187 comments              \n",
      "      \n",
      "            More\n",
      "  \n",
      "\n",
      "Guidelines\n",
      "        | FAQ\n",
      "        | Support\n",
      "        | API\n",
      "        | Security\n",
      "        | Lists\n",
      "        | Bookmarklet\n",
      "        | Legal\n",
      "        | Apply to YC\n",
      "        | ContactSearch:\n",
      "          \n",
      "            \n",
      "      \n",
      "\n"
     ]
    }
   ],
   "source": [
    "from bs4 import BeautifulSoup\n",
    "\n",
    "# Remove HTML tags using Beautiful Soup library\n",
    "soup = BeautifulSoup(r.text, \"html5lib\")\n",
    "print(soup.get_text())"
   ]
  },
  {
   "cell_type": "code",
   "execution_count": 7,
   "metadata": {
    "scrolled": true
   },
   "outputs": [
    {
     "data": {
      "text/plain": [
       "<tr class=\"athing\" id=\"22025482\">\n",
       "      <td align=\"right\" class=\"title\" valign=\"top\"><span class=\"rank\">1.</span></td>      <td class=\"votelinks\" valign=\"top\"><center><a href=\"vote?id=22025482&amp;how=up&amp;goto=news\" id=\"up_22025482\"><div class=\"votearrow\" title=\"upvote\"></div></a></center></td><td class=\"title\"><a class=\"storylink\" href=\"https://www.ecowatch.com/ocean-cleaning-device-plastic-2640832397.html\">Ocean Cleaning Device Succeeds in Removing Plastic for the First Time</a><span class=\"sitebit comhead\"> (<a href=\"from?site=ecowatch.com\"><span class=\"sitestr\">ecowatch.com</span></a>)</span></td></tr>"
      ]
     },
     "execution_count": 7,
     "metadata": {},
     "output_type": "execute_result"
    }
   ],
   "source": [
    "# Find all articles\n",
    "summaries = soup.find_all(\"tr\", class_=\"athing\")\n",
    "summaries[0]"
   ]
  },
  {
   "cell_type": "code",
   "execution_count": 8,
   "metadata": {},
   "outputs": [
    {
     "data": {
      "text/plain": [
       "'Ocean Cleaning Device Succeeds in Removing Plastic for the First Time'"
      ]
     },
     "execution_count": 8,
     "metadata": {},
     "output_type": "execute_result"
    }
   ],
   "source": [
    "# Extract title\n",
    "summaries[0].find(\"a\", class_=\"storylink\").get_text().strip()"
   ]
  },
  {
   "cell_type": "code",
   "execution_count": 9,
   "metadata": {},
   "outputs": [
    {
     "name": "stdout",
     "output_type": "stream",
     "text": [
      "30 Article summaries found. Sample:\n",
      "Ocean Cleaning Device Succeeds in Removing Plastic for the First Time\n"
     ]
    }
   ],
   "source": [
    "# Find all articles, extract titles\n",
    "articles = []\n",
    "summaries = soup.find_all(\"tr\", class_=\"athing\")\n",
    "for summary in summaries:\n",
    "    title = summary.find(\"a\", class_=\"storylink\").get_text().strip()\n",
    "    articles.append((title))\n",
    "\n",
    "print(len(articles), \"Article summaries found. Sample:\")\n",
    "print(articles[0])"
   ]
  },
  {
   "cell_type": "markdown",
   "metadata": {
    "collapsed": true
   },
   "source": [
    "## Normalization"
   ]
  },
  {
   "cell_type": "markdown",
   "metadata": {},
   "source": [
    "### Case Normalization"
   ]
  },
  {
   "cell_type": "code",
   "execution_count": 10,
   "metadata": {},
   "outputs": [
    {
     "name": "stdout",
     "output_type": "stream",
     "text": [
      "The first time you see The Second Renaissance it may look boring. Look at it at least twice and definitely watch part 2. It will change your view of the matrix. Are the human people the ones who started the war ? Is AI a bad thing ?\n"
     ]
    }
   ],
   "source": [
    "# Sample text\n",
    "text = \"The first time you see The Second Renaissance it may look boring. Look at it at least twice and definitely watch part 2. It will change your view of the matrix. Are the human people the ones who started the war ? Is AI a bad thing ?\"\n",
    "print(text)"
   ]
  },
  {
   "cell_type": "code",
   "execution_count": 11,
   "metadata": {},
   "outputs": [
    {
     "name": "stdout",
     "output_type": "stream",
     "text": [
      "the first time you see the second renaissance it may look boring. look at it at least twice and definitely watch part 2. it will change your view of the matrix. are the human people the ones who started the war ? is ai a bad thing ?\n"
     ]
    }
   ],
   "source": [
    "# Convert to lowercase\n",
    "text = text.lower() \n",
    "print(text)"
   ]
  },
  {
   "cell_type": "markdown",
   "metadata": {},
   "source": [
    "### Punctuation Removal"
   ]
  },
  {
   "cell_type": "code",
   "execution_count": 12,
   "metadata": {},
   "outputs": [
    {
     "name": "stdout",
     "output_type": "stream",
     "text": [
      "the first time you see the second renaissance it may look boring  look at it at least twice and definitely watch part 2  it will change your view of the matrix  are the human people the ones who started the war   is ai a bad thing  \n"
     ]
    }
   ],
   "source": [
    "import re\n",
    "\n",
    "# Remove punctuation characters\n",
    "text = re.sub(r\"[^a-zA-Z0-9]\", \" \", text) \n",
    "print(text)"
   ]
  },
  {
   "cell_type": "markdown",
   "metadata": {},
   "source": [
    "## Tokenization"
   ]
  },
  {
   "cell_type": "code",
   "execution_count": 13,
   "metadata": {},
   "outputs": [
    {
     "name": "stdout",
     "output_type": "stream",
     "text": [
      "['the', 'first', 'time', 'you', 'see', 'the', 'second', 'renaissance', 'it', 'may', 'look', 'boring', 'look', 'at', 'it', 'at', 'least', 'twice', 'and', 'definitely', 'watch', 'part', '2', 'it', 'will', 'change', 'your', 'view', 'of', 'the', 'matrix', 'are', 'the', 'human', 'people', 'the', 'ones', 'who', 'started', 'the', 'war', 'is', 'ai', 'a', 'bad', 'thing']\n"
     ]
    }
   ],
   "source": [
    "# Split text into tokens (words)\n",
    "words = text.split()\n",
    "print(words)"
   ]
  },
  {
   "cell_type": "markdown",
   "metadata": {},
   "source": [
    "### NLTK: Natural Language ToolKit"
   ]
  },
  {
   "cell_type": "code",
   "execution_count": 14,
   "metadata": {},
   "outputs": [],
   "source": [
    "import os\n",
    "import nltk\n",
    "nltk.data.path.append(os.path.join(os.getcwd(), \"nltk_data\"))"
   ]
  },
  {
   "cell_type": "code",
   "execution_count": 15,
   "metadata": {},
   "outputs": [
    {
     "name": "stdout",
     "output_type": "stream",
     "text": [
      "Dr. Smith graduated from the University of Washington. He later started an analytics firm called Lux, which catered to enterprise customers.\n"
     ]
    }
   ],
   "source": [
    "# Another sample text\n",
    "text = \"Dr. Smith graduated from the University of Washington. He later started an analytics firm called Lux, which catered to enterprise customers.\"\n",
    "print(text)"
   ]
  },
  {
   "cell_type": "code",
   "execution_count": 16,
   "metadata": {},
   "outputs": [
    {
     "name": "stdout",
     "output_type": "stream",
     "text": [
      "['Dr.', 'Smith', 'graduated', 'from', 'the', 'University', 'of', 'Washington', '.', 'He', 'later', 'started', 'an', 'analytics', 'firm', 'called', 'Lux', ',', 'which', 'catered', 'to', 'enterprise', 'customers', '.']\n"
     ]
    }
   ],
   "source": [
    "from nltk.tokenize import word_tokenize\n",
    "\n",
    "# Split text into words using NLTK\n",
    "words = word_tokenize(text)\n",
    "print(words)"
   ]
  },
  {
   "cell_type": "code",
   "execution_count": 17,
   "metadata": {},
   "outputs": [
    {
     "name": "stdout",
     "output_type": "stream",
     "text": [
      "['Dr. Smith graduated from the University of Washington.', 'He later started an analytics firm called Lux, which catered to enterprise customers.']\n"
     ]
    }
   ],
   "source": [
    "from nltk.tokenize import sent_tokenize\n",
    "\n",
    "# Split text into sentences\n",
    "sentences = sent_tokenize(text)\n",
    "print(sentences)"
   ]
  },
  {
   "cell_type": "code",
   "execution_count": 18,
   "metadata": {},
   "outputs": [
    {
     "name": "stdout",
     "output_type": "stream",
     "text": [
      "['i', 'me', 'my', 'myself', 'we', 'our', 'ours', 'ourselves', 'you', \"you're\", \"you've\", \"you'll\", \"you'd\", 'your', 'yours', 'yourself', 'yourselves', 'he', 'him', 'his', 'himself', 'she', \"she's\", 'her', 'hers', 'herself', 'it', \"it's\", 'its', 'itself', 'they', 'them', 'their', 'theirs', 'themselves', 'what', 'which', 'who', 'whom', 'this', 'that', \"that'll\", 'these', 'those', 'am', 'is', 'are', 'was', 'were', 'be', 'been', 'being', 'have', 'has', 'had', 'having', 'do', 'does', 'did', 'doing', 'a', 'an', 'the', 'and', 'but', 'if', 'or', 'because', 'as', 'until', 'while', 'of', 'at', 'by', 'for', 'with', 'about', 'against', 'between', 'into', 'through', 'during', 'before', 'after', 'above', 'below', 'to', 'from', 'up', 'down', 'in', 'out', 'on', 'off', 'over', 'under', 'again', 'further', 'then', 'once', 'here', 'there', 'when', 'where', 'why', 'how', 'all', 'any', 'both', 'each', 'few', 'more', 'most', 'other', 'some', 'such', 'no', 'nor', 'not', 'only', 'own', 'same', 'so', 'than', 'too', 'very', 's', 't', 'can', 'will', 'just', 'don', \"don't\", 'should', \"should've\", 'now', 'd', 'll', 'm', 'o', 're', 've', 'y', 'ain', 'aren', \"aren't\", 'couldn', \"couldn't\", 'didn', \"didn't\", 'doesn', \"doesn't\", 'hadn', \"hadn't\", 'hasn', \"hasn't\", 'haven', \"haven't\", 'isn', \"isn't\", 'ma', 'mightn', \"mightn't\", 'mustn', \"mustn't\", 'needn', \"needn't\", 'shan', \"shan't\", 'shouldn', \"shouldn't\", 'wasn', \"wasn't\", 'weren', \"weren't\", 'won', \"won't\", 'wouldn', \"wouldn't\"]\n"
     ]
    }
   ],
   "source": [
    "# List stop words\n",
    "from nltk.corpus import stopwords\n",
    "print(stopwords.words(\"english\"))"
   ]
  },
  {
   "cell_type": "code",
   "execution_count": 19,
   "metadata": {},
   "outputs": [
    {
     "name": "stdout",
     "output_type": "stream",
     "text": [
      "['the', 'first', 'time', 'you', 'see', 'the', 'second', 'renaissance', 'it', 'may', 'look', 'boring', 'look', 'at', 'it', 'at', 'least', 'twice', 'and', 'definitely', 'watch', 'part', '2', 'it', 'will', 'change', 'your', 'view', 'of', 'the', 'matrix', 'are', 'the', 'human', 'people', 'the', 'ones', 'who', 'started', 'the', 'war', 'is', 'ai', 'a', 'bad', 'thing']\n"
     ]
    }
   ],
   "source": [
    "# Reset text\n",
    "text = \"The first time you see The Second Renaissance it may look boring. Look at it at least twice and definitely watch part 2. It will change your view of the matrix. Are the human people the ones who started the war ? Is AI a bad thing ?\"\n",
    "\n",
    "# Normalize it\n",
    "text = re.sub(r\"[^a-zA-Z0-9]\", \" \", text.lower())\n",
    "\n",
    "# Tokenize it\n",
    "words = text.split()\n",
    "print(words)"
   ]
  },
  {
   "cell_type": "code",
   "execution_count": 20,
   "metadata": {},
   "outputs": [
    {
     "name": "stdout",
     "output_type": "stream",
     "text": [
      "['first', 'time', 'see', 'second', 'renaissance', 'may', 'look', 'boring', 'look', 'least', 'twice', 'definitely', 'watch', 'part', '2', 'change', 'view', 'matrix', 'human', 'people', 'ones', 'started', 'war', 'ai', 'bad', 'thing']\n"
     ]
    }
   ],
   "source": [
    "# Remove stop words\n",
    "words = [w for w in words if w not in stopwords.words(\"english\")]\n",
    "print(words)"
   ]
  },
  {
   "cell_type": "markdown",
   "metadata": {},
   "source": [
    "### Sentence Parsing"
   ]
  },
  {
   "cell_type": "code",
   "execution_count": 21,
   "metadata": {},
   "outputs": [
    {
     "name": "stdout",
     "output_type": "stream",
     "text": [
      "(S\n",
      "  (NP I)\n",
      "  (VP\n",
      "    (VP (V shot) (NP (Det an) (N elephant)))\n",
      "    (PP (P in) (NP (Det my) (N pajamas)))))\n",
      "(S\n",
      "  (NP I)\n",
      "  (VP\n",
      "    (V shot)\n",
      "    (NP (Det an) (N elephant) (PP (P in) (NP (Det my) (N pajamas))))))\n"
     ]
    }
   ],
   "source": [
    "import nltk\n",
    "\n",
    "# Define a custom grammar\n",
    "my_grammar = nltk.CFG.fromstring(\"\"\"\n",
    "S -> NP VP\n",
    "PP -> P NP\n",
    "NP -> Det N | Det N PP | 'I'\n",
    "VP -> V NP | VP PP\n",
    "Det -> 'an' | 'my'\n",
    "N -> 'elephant' | 'pajamas'\n",
    "V -> 'shot'\n",
    "P -> 'in'\n",
    "\"\"\")\n",
    "parser = nltk.ChartParser(my_grammar)\n",
    "\n",
    "# Parse a sentence\n",
    "sentence = word_tokenize(\"I shot an elephant in my pajamas\")\n",
    "for tree in parser.parse(sentence):\n",
    "    print(tree)"
   ]
  },
  {
   "cell_type": "code",
   "execution_count": null,
   "metadata": {},
   "outputs": [],
   "source": [
    "for tree in parser.parse(sentence):\n",
    "    tree.draw()"
   ]
  },
  {
   "cell_type": "markdown",
   "metadata": {},
   "source": [
    "## Stemming & Lemmatization\n",
    "\n",
    "### Stemming"
   ]
  },
  {
   "cell_type": "code",
   "execution_count": 22,
   "metadata": {},
   "outputs": [
    {
     "name": "stdout",
     "output_type": "stream",
     "text": [
      "['first', 'time', 'see', 'second', 'renaiss', 'may', 'look', 'bore', 'look', 'least', 'twice', 'definit', 'watch', 'part', '2', 'chang', 'view', 'matrix', 'human', 'peopl', 'one', 'start', 'war', 'ai', 'bad', 'thing']\n"
     ]
    }
   ],
   "source": [
    "from nltk.stem.porter import PorterStemmer\n",
    "\n",
    "# Reduce words to their stems\n",
    "stemmed = [PorterStemmer().stem(w) for w in words]\n",
    "print(stemmed)"
   ]
  },
  {
   "cell_type": "markdown",
   "metadata": {},
   "source": [
    "### Lemmatization"
   ]
  },
  {
   "cell_type": "code",
   "execution_count": 23,
   "metadata": {},
   "outputs": [
    {
     "name": "stdout",
     "output_type": "stream",
     "text": [
      "['first', 'time', 'see', 'second', 'renaissance', 'may', 'look', 'boring', 'look', 'least', 'twice', 'definitely', 'watch', 'part', '2', 'change', 'view', 'matrix', 'human', 'people', 'one', 'started', 'war', 'ai', 'bad', 'thing']\n"
     ]
    }
   ],
   "source": [
    "from nltk.stem.wordnet import WordNetLemmatizer\n",
    "\n",
    "# Reduce words to their root form\n",
    "lemmed = [WordNetLemmatizer().lemmatize(w) for w in words]\n",
    "print(lemmed)"
   ]
  },
  {
   "cell_type": "code",
   "execution_count": 24,
   "metadata": {},
   "outputs": [
    {
     "name": "stdout",
     "output_type": "stream",
     "text": [
      "['first', 'time', 'see', 'second', 'renaissance', 'may', 'look', 'bore', 'look', 'least', 'twice', 'definitely', 'watch', 'part', '2', 'change', 'view', 'matrix', 'human', 'people', 'one', 'start', 'war', 'ai', 'bad', 'thing']\n"
     ]
    }
   ],
   "source": [
    "# Lemmatize verbs by specifying pos\n",
    "lemmed = [WordNetLemmatizer().lemmatize(w, pos='v') for w in lemmed]\n",
    "print(lemmed)"
   ]
  },
  {
   "cell_type": "code",
   "execution_count": null,
   "metadata": {},
   "outputs": [],
   "source": []
  }
 ],
 "metadata": {
  "kernelspec": {
   "display_name": "Python 3",
   "language": "python",
   "name": "python3"
  },
  "language_info": {
   "codemirror_mode": {
    "name": "ipython",
    "version": 3
   },
   "file_extension": ".py",
   "mimetype": "text/x-python",
   "name": "python",
   "nbconvert_exporter": "python",
   "pygments_lexer": "ipython3",
   "version": "3.6.3"
  }
 },
 "nbformat": 4,
 "nbformat_minor": 2
}
